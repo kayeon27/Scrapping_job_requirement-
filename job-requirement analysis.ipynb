{
 "cells": [
  {
   "cell_type": "markdown",
   "id": "870ef6ca-1d9d-4fb4-a753-fa61bfd6977d",
   "metadata": {},
   "source": []
  },
  {
   "cell_type": "code",
   "execution_count": 2,
   "id": "5a99a0f0-ce18-45ae-a312-bd6fe6d21535",
   "metadata": {},
   "outputs": [],
   "source": [
    "from datetime import datetime\n",
    "import requests\n",
    "from bs4 import BeautifulSoup as bs\n",
    "import pandas as pd\n"
   ]
  },
  {
   "cell_type": "code",
   "execution_count": 3,
   "id": "d40186b7-3347-4728-bb2f-d3f4525e9e63",
   "metadata": {},
   "outputs": [
    {
     "name": "stdout",
     "output_type": "stream",
     "text": [
      "Note: you may need to restart the kernel to use updated packages.Collecting scrapy-rotating-proxies\n",
      "  Downloading scrapy_rotating_proxies-0.6.2-py2.py3-none-any.whl (15 kB)\n",
      "Requirement already satisfied: attrs>16.0.0 in c:\\users\\degbey kayeon\\appdata\\local\\programs\\python\\python38\\lib\\site-packages (from scrapy-rotating-proxies) (23.2.0)\n",
      "Requirement already satisfied: six in c:\\users\\degbey kayeon\\appdata\\local\\programs\\python\\python38\\lib\\site-packages (from scrapy-rotating-proxies) (1.16.0)\n",
      "Collecting typing (from scrapy-rotating-proxies)\n",
      "  Downloading typing-3.7.4.3.tar.gz (78 kB)\n",
      "                                              0.0/78.6 kB ? eta -:--:--\n",
      "     -----                                    10.2/78.6 kB ? eta -:--:--\n",
      "     -------------------                    41.0/78.6 kB 393.8 kB/s eta 0:00:01\n",
      "     -------------------                    41.0/78.6 kB 393.8 kB/s eta 0:00:01\n",
      "     ----------------------------------     71.7/78.6 kB 357.2 kB/s eta 0:00:01\n",
      "     ----------------------------------     71.7/78.6 kB 357.2 kB/s eta 0:00:01\n",
      "     ----------------------------------     71.7/78.6 kB 357.2 kB/s eta 0:00:01\n",
      "     -------------------------------------- 78.6/78.6 kB 219.1 kB/s eta 0:00:00\n",
      "  Preparing metadata (setup.py): started\n",
      "  Preparing metadata (setup.py): finished with status 'done'\n",
      "Building wheels for collected packages: typing\n",
      "  Building wheel for typing (setup.py): started\n",
      "  Building wheel for typing (setup.py): finished with status 'done'\n",
      "  Created wheel for typing: filename=typing-3.7.4.3-py3-none-any.whl size=26330 sha256=335d5206283d05e8f7de9badf85447cf56448a393f544358cd0273bbc872dbca\n",
      "  Stored in directory: c:\\users\\degbey kayeon\\appdata\\local\\pip\\cache\\wheels\\5e\\5d\\01\\3083e091b57809dad979ea543def62d9d878950e3e74f0c930\n",
      "Successfully built typing\n",
      "Installing collected packages: typing, scrapy-rotating-proxies\n",
      "Successfully installed scrapy-rotating-proxies-0.6.2 typing-3.7.4.3\n",
      "\n"
     ]
    },
    {
     "name": "stderr",
     "output_type": "stream",
     "text": [
      "\n",
      "[notice] A new release of pip is available: 23.1.2 -> 24.2\n",
      "[notice] To update, run: python.exe -m pip install --upgrade pip\n"
     ]
    }
   ],
   "source": [
    "pip install scrapy-rotating-proxies\n"
   ]
  },
  {
   "cell_type": "code",
   "execution_count": null,
   "id": "82ec42a0-80c7-4883-a4aa-6b25d17521a2",
   "metadata": {},
   "outputs": [],
   "source": []
  },
  {
   "cell_type": "code",
   "execution_count": null,
   "id": "323e1701-82e9-4845-854f-53aab430a163",
   "metadata": {},
   "outputs": [],
   "source": [
    "ROTATING_PROXY_LIST = [\n",
    "    'http://123.456.789.000:8000',\n",
    "    'http://234.567.890.123:8000',\n",
    "    # Ajoutez d'autres proxies ici\n",
    "]\n",
    "\n",
    "DOWNLOADER_MIDDLEWARES = {\n",
    "    'rotating_proxies.middlewares.RotatingProxyMiddleware': 610,\n",
    "    'rotating_proxies.middlewares.BanDetectionMiddleware': 620,\n",
    "}\n"
   ]
  }
 ],
 "metadata": {
  "kernelspec": {
   "display_name": "Python 3 (ipykernel)",
   "language": "python",
   "name": "python3"
  },
  "language_info": {
   "codemirror_mode": {
    "name": "ipython",
    "version": 3
   },
   "file_extension": ".py",
   "mimetype": "text/x-python",
   "name": "python",
   "nbconvert_exporter": "python",
   "pygments_lexer": "ipython3",
   "version": "3.8.1"
  }
 },
 "nbformat": 4,
 "nbformat_minor": 5
}
